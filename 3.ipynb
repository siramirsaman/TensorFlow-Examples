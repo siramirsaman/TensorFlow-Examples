{
 "cells": [
  {
   "cell_type": "markdown",
   "metadata": {},
   "source": [
    "## Credit Card Fraud Detection using TensorFlow\n",
    "Anonymized credit card transactions labeled as fraudulent or genuine<br>\nUsing Keras from TensorFlow applied to dataset:<br>\n",
    "Link: https://www.kaggle.com/mlg-ulb/creditcardfraud"
   ]
  },
  {
   "cell_type": "code",
   "execution_count": 139,
   "metadata": {},
   "outputs": [],
   "source": [
    "debug = True\n",
    "_verbose=1 if debug else 0\n",
    "def printd(input):\n",
    "    if debug:\n",
    "        print(input)"
   ]
  },
  {
   "cell_type": "code",
   "execution_count": 140,
   "metadata": {},
   "outputs": [
    {
     "name": "stdout",
     "output_type": "stream",
     "text": [
      "1.9.0\n"
     ]
    }
   ],
   "source": [
    "import tensorflow as tf\n",
    "from tensorflow import keras\n",
    "\n",
    "import numpy as np\n",
    "import matplotlib.pyplot as plt\n",
    "\n",
    "print(tf.__version__)"
   ]
  },
  {
   "cell_type": "code",
   "execution_count": 141,
   "metadata": {},
   "outputs": [],
   "source": [
    "import pandas as pd \n",
    "data = pd.read_csv('inputs/creditcard.csv', sep=',')"
   ]
  },
  {
   "cell_type": "code",
   "execution_count": 142,
   "metadata": {},
   "outputs": [
    {
     "name": "stdout",
     "output_type": "stream",
     "text": [
      "(284807, 31)\n",
      "   Time        V1        V2        V3        V4        V5        V6        V7  \\\n",
      "0   0.0 -1.359807 -0.072781  2.536347  1.378155 -0.338321  0.462388  0.239599   \n",
      "1   0.0  1.191857  0.266151  0.166480  0.448154  0.060018 -0.082361 -0.078803   \n",
      "2   1.0 -1.358354 -1.340163  1.773209  0.379780 -0.503198  1.800499  0.791461   \n",
      "3   1.0 -0.966272 -0.185226  1.792993 -0.863291 -0.010309  1.247203  0.237609   \n",
      "4   2.0 -1.158233  0.877737  1.548718  0.403034 -0.407193  0.095921  0.592941   \n",
      "\n",
      "         V8        V9  ...         V21       V22       V23       V24  \\\n",
      "0  0.098698  0.363787  ...   -0.018307  0.277838 -0.110474  0.066928   \n",
      "1  0.085102 -0.255425  ...   -0.225775 -0.638672  0.101288 -0.339846   \n",
      "2  0.247676 -1.514654  ...    0.247998  0.771679  0.909412 -0.689281   \n",
      "3  0.377436 -1.387024  ...   -0.108300  0.005274 -0.190321 -1.175575   \n",
      "4 -0.270533  0.817739  ...   -0.009431  0.798278 -0.137458  0.141267   \n",
      "\n",
      "        V25       V26       V27       V28  Amount  Class  \n",
      "0  0.128539 -0.189115  0.133558 -0.021053  149.62      0  \n",
      "1  0.167170  0.125895 -0.008983  0.014724    2.69      0  \n",
      "2 -0.327642 -0.139097 -0.055353 -0.059752  378.66      0  \n",
      "3  0.647376 -0.221929  0.062723  0.061458  123.50      0  \n",
      "4 -0.206010  0.502292  0.219422  0.215153   69.99      0  \n",
      "\n",
      "[5 rows x 31 columns]\n"
     ]
    }
   ],
   "source": [
    "printd(data.shape)\n",
    "printd(data.head())"
   ]
  },
  {
   "cell_type": "code",
   "execution_count": 143,
   "metadata": {},
   "outputs": [
    {
     "name": "stdout",
     "output_type": "stream",
     "text": [
      "       Time        V1        V2        V3        V4        V5        V6  \\\n",
      "3  147373.0  2.102372 -1.197421 -0.632337 -0.932112 -1.143515 -0.349231   \n",
      "\n",
      "        V7        V8       V9   ...         V20       V21       V22       V23  \\\n",
      "3 -1.15769  0.085457  0.11723   ...   -0.055009  0.346282  0.936178  0.072403   \n",
      "\n",
      "        V24       V25       V26       V27       V28  Amount  \n",
      "3 -0.406423 -0.185114 -0.080764 -0.007377 -0.061077   34.99  \n",
      "\n",
      "[1 rows x 30 columns]\n",
      "   Class\n",
      "3      0\n",
      "      Time        V1       V2        V3        V4        V5        V6  \\\n",
      "0  76676.0  1.262706  0.25327  0.512494  0.619236 -0.478039 -0.991197   \n",
      "\n",
      "         V7        V8        V9   ...         V20       V21       V22  \\\n",
      "0  0.059961 -0.204712  0.046427   ...   -0.095786 -0.258461 -0.745136   \n",
      "\n",
      "        V23       V24       V25       V26       V27      V28  Amount  \n",
      "0  0.137002  0.374501  0.218209  0.095001 -0.028896  0.01877    0.69  \n",
      "\n",
      "[1 rows x 30 columns]\n",
      "   Class\n",
      "0      0\n",
      "[ True  True  True False  True]\n",
      "(228257, 30)\n",
      "(56550, 30)\n",
      "284807\n"
     ]
    }
   ],
   "source": [
    "split = 0.8\n",
    "msk = np.random.rand(len(data)) < split\n",
    "\n",
    "# Shuffle the entire data set (applies to both train & test)\n",
    "data = data.sample(frac=1).reset_index(drop=True)\n",
    "\n",
    "train_labels = data.loc[msk, data.columns =='Class']\n",
    "train_data  = data.loc[msk, data.columns !='Class']\n",
    "\n",
    "test_labels = data.loc[~msk, data.columns =='Class']\n",
    "test_data  = data.loc[~msk, data.columns !='Class']\n",
    "\n",
    "printd(test_data.head(1))\n",
    "printd(test_labels.head(1))\n",
    "printd(train_data.head(1))\n",
    "printd(train_labels.head(1))\n",
    "\n",
    "printd(msk[0:5])\n",
    "printd(train_data.shape)\n",
    "printd(test_data.shape)\n",
    "printd(test_data.shape[0]+train_data.shape[0])"
   ]
  },
  {
   "cell_type": "code",
   "execution_count": 144,
   "metadata": {},
   "outputs": [
    {
     "name": "stdout",
     "output_type": "stream",
     "text": [
      "       Time        V1        V2        V3        V4        V5       V6  \\\n",
      "0 -0.380496  0.647223  0.153251  0.338101  0.437869 -0.347107 -0.74156   \n",
      "\n",
      "         V7        V8        V9    ...          V20      V21       V22  \\\n",
      "0  0.047963 -0.169279  0.042692    ...    -0.126433 -0.34791 -1.024272   \n",
      "\n",
      "        V23       V24       V25       V26       V27       V28    Amount  \n",
      "0  0.220635  0.618038  0.419251  0.196289 -0.072088  0.057351 -0.346073  \n",
      "\n",
      "[1 rows x 30 columns]\n",
      "       Time        V1        V2        V3        V4        V5        V6  \\\n",
      "3  1.108026  1.076935 -0.723627 -0.420055 -0.657492 -0.828461 -0.260247   \n",
      "\n",
      "         V7        V8        V9   ...          V20       V21       V22  \\\n",
      "3 -0.936188  0.071321  0.107276   ...    -0.073396  0.466349  1.289885   \n",
      "\n",
      "        V23       V24       V25       V26       V27       V28   Amount  \n",
      "3  0.116524 -0.671827 -0.354752 -0.168053 -0.018537 -0.186097 -0.21079  \n",
      "\n",
      "[1 rows x 30 columns]\n"
     ]
    }
   ],
   "source": [
    "mean = train_data.mean(axis=0)\n",
    "std = train_data.std(axis=0)\n",
    "\n",
    "#printd(mean)\n",
    "#printd(std)\n",
    "\n",
    "train_data = (train_data - mean) / std\n",
    "test_data = (test_data - mean) / std\n",
    "\n",
    "printd(train_data.head(1))\n",
    "printd(test_data.head(1))"
   ]
  },
  {
   "cell_type": "code",
   "execution_count": 145,
   "metadata": {},
   "outputs": [],
   "source": [
    "def build_model():\n",
    "  model = keras.Sequential([\n",
    "    keras.layers.Dense(60, activation=tf.nn.relu,\n",
    "                       input_shape=(train_data.shape[1],)),\n",
    "    #keras.layers.Dense(60, activation=tf.nn.relu),\n",
    "    keras.layers.Dense(2, activation=tf.nn.softmax)\n",
    "])\n",
    "    \n",
    "  model.compile(optimizer=tf.train.AdamOptimizer(), \n",
    "              loss='sparse_categorical_crossentropy',\n",
    "              metrics=['accuracy'])\n",
    "\n",
    "  return model"
   ]
  },
  {
   "cell_type": "code",
   "execution_count": 146,
   "metadata": {},
   "outputs": [
    {
     "name": "stdout",
     "output_type": "stream",
     "text": [
      "_________________________________________________________________\n",
      "Layer (type)                 Output Shape              Param #   \n",
      "=================================================================\n",
      "dense_34 (Dense)             (None, 60)                1860      \n",
      "_________________________________________________________________\n",
      "dense_35 (Dense)             (None, 2)                 122       \n",
      "=================================================================\n",
      "Total params: 1,982\n",
      "Trainable params: 1,982\n",
      "Non-trainable params: 0\n",
      "_________________________________________________________________\n"
     ]
    }
   ],
   "source": [
    "model = build_model()\n",
    "model.summary()"
   ]
  },
  {
   "cell_type": "code",
   "execution_count": 147,
   "metadata": {},
   "outputs": [
    {
     "name": "stdout",
     "output_type": "stream",
     "text": [
      "Train on 182605 samples, validate on 45652 samples\n",
      "Epoch 1/500\n",
      "182605/182605 [==============================] - 6s 36us/step - loss: 0.0112 - acc: 0.9972 - val_loss: 0.0031 - val_acc: 0.9993\n",
      "Epoch 2/500\n",
      "182605/182605 [==============================] - 6s 31us/step - loss: 0.0033 - acc: 0.9994 - val_loss: 0.0020 - val_acc: 0.9995\n",
      "Epoch 3/500\n",
      "182605/182605 [==============================] - 6s 32us/step - loss: 0.0027 - acc: 0.9994 - val_loss: 0.0019 - val_acc: 0.9996\n",
      "Epoch 4/500\n",
      "182605/182605 [==============================] - 6s 33us/step - loss: 0.0025 - acc: 0.9994 - val_loss: 0.0020 - val_acc: 0.9996\n",
      "Epoch 5/500\n",
      "182605/182605 [==============================] - 5s 30us/step - loss: 0.0023 - acc: 0.9995 - val_loss: 0.0021 - val_acc: 0.9996\n"
     ]
    }
   ],
   "source": [
    "early_stop = keras.callbacks.EarlyStopping(monitor='val_loss', patience=2)\n",
    "\n",
    "history = model.fit(train_data, train_labels, epochs=500,\n",
    "                    validation_split=0.2, verbose=_verbose,\n",
    "                    callbacks=[early_stop])"
   ]
  },
  {
   "cell_type": "code",
   "execution_count": 148,
   "metadata": {},
   "outputs": [
    {
     "name": "stdout",
     "output_type": "stream",
     "text": [
      "56550/56550 [==============================] - 1s 12us/step\n",
      "Mean Abs Error: 0.999346\n",
      "Loss: 0.003919\n",
      "[ 693 1777 2748 2750 2761]\n",
      "[[1]\n",
      " [1]\n",
      " [1]\n",
      " [1]\n",
      " [1]]\n",
      "[[0. 1.]\n",
      " [0. 1.]\n",
      " [0. 1.]\n",
      " [0. 1.]\n",
      " [0. 1.]]\n"
     ]
    }
   ],
   "source": [
    "[loss, mae] = model.evaluate(test_data, test_labels, verbose=_verbose)\n",
    "\n",
    "print(\"Mean Abs Error: {:f}\".format(mae))\n",
    "print(\"Loss: {:f}\".format(loss))\n",
    "\n",
    "\n",
    "test_predictions = model.predict(test_data)\n",
    "\n",
    "frauds = np.where(test_labels[:]==1)[0]\n",
    "print(frauds[0:5])\n",
    "print(test_labels.values[frauds[0:5]])\n",
    "print(np.around(test_predictions[frauds[0:5]]))"
   ]
  },
  {
   "cell_type": "code",
   "execution_count": 149,
   "metadata": {},
   "outputs": [],
   "source": [
    "#@title Licensed under the Apache License, Version 2.0 (the \"License\");\n",
    "# you may not use this file except in compliance with the License.\n",
    "# You may obtain a copy of the License at\n",
    "#\n",
    "# https://www.apache.org/licenses/LICENSE-2.0\n",
    "#\n",
    "# Unless required by applicable law or agreed to in writing, software\n",
    "# distributed under the License is distributed on an \"AS IS\" BASIS,\n",
    "# WITHOUT WARRANTIES OR CONDITIONS OF ANY KIND, either express or implied.\n",
    "# See the License for the specific language governing permissions and\n",
    "# limitations under the License.\n",
    "\n",
    "#@title MIT License\n",
    "#\n",
    "# Copyright (c) 2017 François Chollet\n",
    "#\n",
    "# Permission is hereby granted, free of charge, to any person obtaining a\n",
    "# copy of this software and associated documentation files (the \"Software\"),\n",
    "# to deal in the Software without restriction, including without limitation\n",
    "# the rights to use, copy, modify, merge, publish, distribute, sublicense,\n",
    "# and/or sell copies of the Software, and to permit persons to whom the\n",
    "# Software is furnished to do so, subject to the following conditions:\n",
    "#\n",
    "# The above copyright notice and this permission notice shall be included in\n",
    "# all copies or substantial portions of the Software.\n",
    "#\n",
    "# THE SOFTWARE IS PROVIDED \"AS IS\", WITHOUT WARRANTY OF ANY KIND, EXPRESS OR\n",
    "# IMPLIED, INCLUDING BUT NOT LIMITED TO THE WARRANTIES OF MERCHANTABILITY,\n",
    "# FITNESS FOR A PARTICULAR PURPOSE AND NONINFRINGEMENT. IN NO EVENT SHALL\n",
    "# THE AUTHORS OR COPYRIGHT HOLDERS BE LIABLE FOR ANY CLAIM, DAMAGES OR OTHER\n",
    "# LIABILITY, WHETHER IN AN ACTION OF CONTRACT, TORT OR OTHERWISE, ARISING\n",
    "# FROM, OUT OF OR IN CONNECTION WITH THE SOFTWARE OR THE USE OR OTHER\n",
    "# DEALINGS IN THE SOFTWARE."
   ]
  }
 ],
 "metadata": {
  "kernelspec": {
   "display_name": "Python 3",
   "language": "python",
   "name": "python3"
  }
 },
 "nbformat": 4,
 "nbformat_minor": 2
}
